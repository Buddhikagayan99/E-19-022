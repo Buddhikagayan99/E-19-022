{
  "nbformat": 4,
  "nbformat_minor": 0,
  "metadata": {
    "colab": {
      "provenance": [],
      "include_colab_link": true
    },
    "kernelspec": {
      "name": "python3",
      "display_name": "Python 3"
    },
    "language_info": {
      "name": "python"
    }
  },
  "cells": [
    {
      "cell_type": "markdown",
      "metadata": {
        "id": "view-in-github",
        "colab_type": "text"
      },
      "source": [
        "<a href=\"https://colab.research.google.com/github/Buddhikagayan99/E-19-022/blob/main/mechanics/assignments/ME421_ControlSystems_Lab.ipynb\" target=\"_parent\"><img src=\"https://colab.research.google.com/assets/colab-badge.svg\" alt=\"Open In Colab\"/></a>"
      ]
    },
    {
      "cell_type": "markdown",
      "source": [
        "#Instructions"
      ],
      "metadata": {
        "id": "tjwc7ZikCWjn"
      }
    },
    {
      "cell_type": "markdown",
      "source": [
        "* This is a group assignment. Complete the activities in groups that were assigned for ME421 for the vibrations lab.\n",
        "\n",
        "* Make a copy of this and save it in your group github group repository.\n",
        "\n",
        "* Do all your work, EXCLUSIVELY, in that saved notebook. Your github commits will serve as a refelection of your individual contributions. It will constitute 25% of your final grade for the lab.\n",
        "\n",
        "* Complete Tasks#1 and Task#2 by 5:00PM on 18/01/2024\n",
        "\n",
        "* Complete Tasks#3 and the Task#4 by 5:00PM on 25/01/2024 and demonstrate the work in the class on 01/02/2024.\n",
        "\n",
        "* Complete Task#5 by 5:00PM on 08/02/2024 and submit the link to your working repository by midnight 08/02/2024."
      ],
      "metadata": {
        "id": "pOeY40kCCZIY"
      }
    },
    {
      "cell_type": "markdown",
      "source": [
        "#References"
      ],
      "metadata": {
        "id": "xQxmvsoX2wtl"
      }
    },
    {
      "cell_type": "markdown",
      "source": [
        "* https://colab.research.google.com/github/mugalan/classical-mechanics-from-a-geometric-point-of-view/blob/main/rigid-body-control/Mugas_Rigid_Body_Control.ipynb\n",
        "\n",
        "* https://github.com/mugalan/classical-mechanics-from-a-geometric-point-of-view/blob/main/rigid-body-control/MaithriPalaDHS_RigidBodyPIDControl_IITB_18_03_2023.pdf"
      ],
      "metadata": {
        "id": "N2PYkHmG2y9o"
      }
    },
    {
      "cell_type": "markdown",
      "source": [
        "#Task#1"
      ],
      "metadata": {
        "id": "JhWYC6Kv2l4k"
      }
    },
    {
      "cell_type": "markdown",
      "metadata": {
        "id": "GjPELOm2sJQg"
      },
      "source": [
        "Conside a rigid body moving in space. Let $\\mathbf{b}$ be a body fixed frame with the origin coinciding with that of the center of mass of the body, $M$ be the tatal mass of the body, $\\mathbb{I}$ be the inertia tensor of the body with respect to the body frame $\\mathbf{b}$, $f^e$ be the resultant total external interactions acting on the particles of the body, and $\\tau^e$ be the total resultant of the moments of the external interactions about the center of mass of the body.\n",
        "\n",
        "Show that a general rigid body is descibed by the following simple equations in an inertial frame $\\mathbf{e}$ where the moments are taken about the center of mass of the rigid body."
      ]
    },
    {
      "cell_type": "markdown",
      "metadata": {
        "id": "2FFWl8Whs8HJ"
      },
      "source": [
        "\\begin{align}\n",
        "\\dot{o}&=\\frac{1}{M}p\\\\\n",
        "\\dot{R}&=\\widehat{\\omega}R,\\\\\n",
        "\\dot{p}&=f^e+f^u,\\\\\n",
        "\\dot{\\pi}&=\\tau^e+\\tau^u,\n",
        "\\end{align}\n",
        "where\n",
        "\\begin{align}\n",
        "\\omega &=(\\mathbb{I}_c^R)^{-1}\\pi,\n",
        "\\end{align}\n",
        "Here we have split the force and control moments into unmanipulatable and manipulatable (control) part. The manipulatable (control) part will be denoted by a superscript $u$."
      ]
    },
    {
      "cell_type": "markdown",
      "source": [
        "### Translational Motion\n",
        "Newton's Second Law states that the rate of change of linear momentum equals the net external force:\n",
        "\\begin{equation}\n",
        "    \\frac{d}{dt} (M \\dot{\\mathbf{o}}) = \\mathbf{f}^e + \\mathbf{f}^u.\n",
        "\\end{equation}\n",
        "Since $M$ is constant, we obtain:\n",
        "\\begin{equation}\n",
        "    \\dot{\\mathbf{o}} = \\frac{1}{M} \\mathbf{p}, \\quad \\dot{\\mathbf{p}} = \\mathbf{f}^e + \\mathbf{f}^u.\n",
        "\\end{equation}\n",
        "\n",
        "### Rotational Motion\n",
        "The angular momentum of the rigid body is given by:\n",
        "\\begin{equation}\n",
        "    \\boldsymbol{\\pi} = \\mathbb{I} \\boldsymbol{\\omega}.\n",
        "\\end{equation}\n",
        "Taking the time derivative,\n",
        "\\begin{equation}\n",
        "    \\dot{\\boldsymbol{\\pi}} = \\mathbb{I} \\dot{\\boldsymbol{\\omega}} + \\dot{\\mathbb{I}} \\boldsymbol{\\omega}.\n",
        "\\end{equation}\n",
        "Assuming $\\mathbb{I}$ is constant in the body frame,\n",
        "\\begin{equation}\n",
        "    \\dot{\\boldsymbol{\\pi}} = \\mathbb{I} \\dot{\\boldsymbol{\\omega}}.\n",
        "\\end{equation}\n",
        "From Euler's equations,\n",
        "\\begin{equation}\n",
        "    \\mathbb{I} \\dot{\\boldsymbol{\\omega}} = \\boldsymbol{\\tau}^e + \\boldsymbol{\\tau}^u.\n",
        "\\end{equation}\n",
        "Solving for $\\dot{\\boldsymbol{\\pi}}$,\n",
        "\\begin{equation}\n",
        "    \\dot{\\boldsymbol{\\pi}} = \\boldsymbol{\\tau}^e + \\boldsymbol{\\tau}^u.\n",
        "\\end{equation}\n",
        "\n",
        "Finally, the rotational kinematics equation is given by:\n",
        "\\begin{equation}\n",
        "    \\dot{\\mathbf{R}} = \\hat{\\boldsymbol{\\omega}} \\mathbf{R}.\n",
        "\\end{equation}"
      ],
      "metadata": {
        "id": "Jx19L6GYni7z"
      }
    },
    {
      "cell_type": "markdown",
      "source": [
        "#Task#2"
      ],
      "metadata": {
        "id": "PT5T8y9-3h1H"
      }
    },
    {
      "cell_type": "markdown",
      "source": [
        "Simulate the motion of a quadrotor UAV without resorting any parameterization of $SO(3)$ such as Euler angles or quaternions."
      ],
      "metadata": {
        "id": "iETMxXB04IZj"
      }
    },
    {
      "cell_type": "code",
      "source": [
        "import numpy as np\n",
        "import matplotlib.pyplot as plt\n",
        "from scipy.integrate import solve_ivp\n",
        "\n",
        "# Define the quadrotor parameters\n",
        "M = 1.0  # Mass of the UAV (kg)\n",
        "I = np.diag([0.02, 0.02, 0.04])  # Inertia matrix (kg*m^2)\n",
        "g = 9.81  # Gravity (m/s^2)\n",
        "\n",
        "# Skew-symmetric operator for cross product\n",
        "def hat(v):\n",
        "    return np.array([[0, -v[2], v[1]],\n",
        "                     [v[2], 0, -v[0]],\n",
        "                     [-v[1], v[0], 0]])\n",
        "\n",
        "# Equations of motion\n",
        "def quadrotor_dynamics(t, state):\n",
        "    R = state[:9].reshape(3, 3)  # Rotation matrix\n",
        "    p = state[9:12]  # Linear momentum\n",
        "    pi = state[12:15]  # Angular momentum\n",
        "\n",
        "    # Compute linear and angular velocities\n",
        "    v = p / M  # Linear velocity\n",
        "    omega = np.linalg.inv(I) @ pi  # Angular velocity\n",
        "\n",
        "    # Define control forces and torques (assumed simple hover force)\n",
        "    f_u = np.array([0, 0, M * g])  # Control force to counter gravity\n",
        "    tau_u = np.array([0, 0, 0])  # No external torques\n",
        "\n",
        "    # Compute derivatives\n",
        "    dRdt = R @ hat(omega)  # SO(3) kinematics\n",
        "    dpdt = f_u - np.array([0, 0, M * g])  # Newton's Second Law\n",
        "    dpidt = tau_u  # Euler's rotational equation\n",
        "\n",
        "    return np.hstack([dRdt.flatten(), dpdt, dpidt])\n",
        "\n",
        "# Initial conditions\n",
        "R0 = np.eye(3).flatten()  # Initial rotation is identity matrix\n",
        "p0 = np.array([0, 0, 0])  # Initial linear momentum\n",
        "pi0 = np.array([0, 0, 0])  # Initial angular momentum\n",
        "state0 = np.hstack([R0, p0, pi0])\n",
        "\n",
        "# Time span\n",
        "tspan = (0, 5)  # Simulate for 5 seconds\n",
        "t_eval = np.linspace(tspan[0], tspan[1], 100)\n",
        "\n",
        "# Solve the equations of motion\n",
        "sol = solve_ivp(quadrotor_dynamics, tspan, state0, t_eval=t_eval, method='RK45')\n",
        "\n",
        "# Extract position data\n",
        "position = sol.y[9:12, :].T\n",
        "\n",
        "# Plot results\n",
        "plt.figure(figsize=(8, 6))\n",
        "plt.plot(t_eval, position[:, 2], label='Altitude (z)')\n",
        "plt.xlabel('Time (s)')\n",
        "plt.ylabel('Altitude (m)')\n",
        "plt.title('Quadrotor Altitude Over Time')\n",
        "plt.legend()\n",
        "plt.grid()\n",
        "plt.show()"
      ],
      "metadata": {
        "id": "qPiDVaOApC2x",
        "outputId": "6f011777-62d6-405b-d6a0-147671c79112",
        "colab": {
          "base_uri": "https://localhost:8080/",
          "height": 564
        }
      },
      "execution_count": 9,
      "outputs": [
        {
          "output_type": "display_data",
          "data": {
            "text/plain": [
              "<Figure size 800x600 with 1 Axes>"
            ],
            "image/png": "[encoded data removed]"
          },
          "metadata": {}
        }
      ]
    },
    {
      "cell_type": "markdown",
      "source": [
        "#Task#3"
      ],
      "metadata": {
        "id": "iYtoUarB4L6Q"
      }
    },
    {
      "cell_type": "markdown",
      "source": [
        "Deerive a PID controller for the attitude control of a quadrorotor and use simulations to demibstrate the very large region of stability of the controller"
      ],
      "metadata": {
        "id": "AxOY5o-34TCz"
      }
    },
    {
      "cell_type": "markdown",
      "source": [
        "Here are few example our own implementations of this controller.\n",
        "\n",
        "* https://youtu.be/6E9WDQNVSYA\n",
        "* https://youtu.be/uUKxXImRMOA\n",
        "* https://youtu.be/zq05N8m_9SA\n",
        "* https://youtu.be/J5dThZGZN2g\n",
        "* https://youtu.be/J5MMp6Be3tU\n",
        "* https://youtu.be/6ZQgE1FI6Wc"
      ],
      "metadata": {
        "id": "cInu25giFEXw"
      }
    },
    {
      "cell_type": "markdown",
      "source": [
        "#Task#4"
      ],
      "metadata": {
        "id": "o6XRW2MR4nVw"
      }
    },
    {
      "cell_type": "markdown",
      "source": [
        "Derive a specialization of the controller develoed in Task#3 for the problem of stabilzing the twin rotor setup in the lab."
      ],
      "metadata": {
        "id": "u9vdw-yM4rem"
      }
    },
    {
      "cell_type": "markdown",
      "source": [
        "#Task#5"
      ],
      "metadata": {
        "id": "jkEiEv8sEPhG"
      }
    },
    {
      "cell_type": "markdown",
      "source": [
        " Experimentally verify the stability properties of the controller derived in Task#5 using the experimental setup available in the applied mechanics lab."
      ],
      "metadata": {
        "id": "w2WRdKSTEQ7i"
      }
    }
  ]
}